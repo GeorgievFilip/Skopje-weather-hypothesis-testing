{
 "cells": [
  {
   "cell_type": "markdown",
   "metadata": {},
   "source": [
    "# Skopje weather hypothesis testing"
   ]
  },
  {
   "cell_type": "markdown",
   "metadata": {},
   "source": [
    "Skopje is the capital and largest city of the Republic of Macedonia. The city's climate is classified as warm and temperate.\n",
    "Every row in the dataset represents measurments taken every 3 hours in the year 2017. The dataset is obtained from rb5.ru and contains 29 descriptors, including temperature which is the main focus of this project."
   ]
  },
  {
   "cell_type": "code",
   "execution_count": 1,
   "metadata": {},
   "outputs": [],
   "source": [
    "import pandas as pd\n",
    "import scipy.stats as stats\n",
    "import matplotlib.pyplot as plt\n",
    "import math\n",
    "from scipy.stats import norm \n",
    "import seaborn as sns\n",
    "\n",
    "# Pretty display for notebooks\n",
    "%matplotlib inline\n",
    "from IPython.display import display, Markdown, Latex"
   ]
  },
  {
   "cell_type": "markdown",
   "metadata": {},
   "source": [
    "## Data sorting"
   ]
  },
  {
   "cell_type": "code",
   "execution_count": 2,
   "metadata": {},
   "outputs": [],
   "source": [
    "df = pd.read_excel('...sk2017.xls')"
   ]
  },
  {
   "cell_type": "code",
   "execution_count": 3,
   "metadata": {},
   "outputs": [
    {
     "data": {
      "text/html": [
       "<div>\n",
       "<style scoped>\n",
       "    .dataframe tbody tr th:only-of-type {\n",
       "        vertical-align: middle;\n",
       "    }\n",
       "\n",
       "    .dataframe tbody tr th {\n",
       "        vertical-align: top;\n",
       "    }\n",
       "\n",
       "    .dataframe thead th {\n",
       "        text-align: right;\n",
       "    }\n",
       "</style>\n",
       "<table border=\"1\" class=\"dataframe\">\n",
       "  <thead>\n",
       "    <tr style=\"text-align: right;\">\n",
       "      <th></th>\n",
       "      <th># Weather station Skopje / Zajchev Rid, Macedonia, WMO_ID=13588,selection from 01.01.2017 till 31.12.2017, all days</th>\n",
       "      <th>Unnamed: 1</th>\n",
       "      <th>Unnamed: 2</th>\n",
       "      <th>Unnamed: 3</th>\n",
       "      <th>Unnamed: 4</th>\n",
       "      <th>Unnamed: 5</th>\n",
       "      <th>Unnamed: 6</th>\n",
       "      <th>Unnamed: 7</th>\n",
       "      <th>Unnamed: 8</th>\n",
       "      <th>Unnamed: 9</th>\n",
       "      <th>...</th>\n",
       "      <th>Unnamed: 19</th>\n",
       "      <th>Unnamed: 20</th>\n",
       "      <th>Unnamed: 21</th>\n",
       "      <th>Unnamed: 22</th>\n",
       "      <th>Unnamed: 23</th>\n",
       "      <th>Unnamed: 24</th>\n",
       "      <th>Unnamed: 25</th>\n",
       "      <th>Unnamed: 26</th>\n",
       "      <th>Unnamed: 27</th>\n",
       "      <th>Unnamed: 28</th>\n",
       "    </tr>\n",
       "  </thead>\n",
       "  <tbody>\n",
       "    <tr>\n",
       "      <th>0</th>\n",
       "      <td># Encoding: UTF-8</td>\n",
       "      <td>NaN</td>\n",
       "      <td>NaN</td>\n",
       "      <td>NaN</td>\n",
       "      <td>NaN</td>\n",
       "      <td>NaN</td>\n",
       "      <td>NaN</td>\n",
       "      <td>NaN</td>\n",
       "      <td>NaN</td>\n",
       "      <td>NaN</td>\n",
       "      <td>...</td>\n",
       "      <td>NaN</td>\n",
       "      <td>NaN</td>\n",
       "      <td>NaN</td>\n",
       "      <td>NaN</td>\n",
       "      <td>NaN</td>\n",
       "      <td>NaN</td>\n",
       "      <td>NaN</td>\n",
       "      <td>NaN</td>\n",
       "      <td>NaN</td>\n",
       "      <td>NaN</td>\n",
       "    </tr>\n",
       "    <tr>\n",
       "      <th>1</th>\n",
       "      <td># The data is provided by the website \"Reliabl...</td>\n",
       "      <td>NaN</td>\n",
       "      <td>NaN</td>\n",
       "      <td>NaN</td>\n",
       "      <td>NaN</td>\n",
       "      <td>NaN</td>\n",
       "      <td>NaN</td>\n",
       "      <td>NaN</td>\n",
       "      <td>NaN</td>\n",
       "      <td>NaN</td>\n",
       "      <td>...</td>\n",
       "      <td>NaN</td>\n",
       "      <td>NaN</td>\n",
       "      <td>NaN</td>\n",
       "      <td>NaN</td>\n",
       "      <td>NaN</td>\n",
       "      <td>NaN</td>\n",
       "      <td>NaN</td>\n",
       "      <td>NaN</td>\n",
       "      <td>NaN</td>\n",
       "      <td>NaN</td>\n",
       "    </tr>\n",
       "    <tr>\n",
       "      <th>2</th>\n",
       "      <td># If you use the data, please indicate the nam...</td>\n",
       "      <td>NaN</td>\n",
       "      <td>NaN</td>\n",
       "      <td>NaN</td>\n",
       "      <td>NaN</td>\n",
       "      <td>NaN</td>\n",
       "      <td>NaN</td>\n",
       "      <td>NaN</td>\n",
       "      <td>NaN</td>\n",
       "      <td>NaN</td>\n",
       "      <td>...</td>\n",
       "      <td>NaN</td>\n",
       "      <td>NaN</td>\n",
       "      <td>NaN</td>\n",
       "      <td>NaN</td>\n",
       "      <td>NaN</td>\n",
       "      <td>NaN</td>\n",
       "      <td>NaN</td>\n",
       "      <td>NaN</td>\n",
       "      <td>NaN</td>\n",
       "      <td>NaN</td>\n",
       "    </tr>\n",
       "    <tr>\n",
       "      <th>3</th>\n",
       "      <td># For meteorological parameters see the addres...</td>\n",
       "      <td>NaN</td>\n",
       "      <td>NaN</td>\n",
       "      <td>NaN</td>\n",
       "      <td>NaN</td>\n",
       "      <td>NaN</td>\n",
       "      <td>NaN</td>\n",
       "      <td>NaN</td>\n",
       "      <td>NaN</td>\n",
       "      <td>NaN</td>\n",
       "      <td>...</td>\n",
       "      <td>NaN</td>\n",
       "      <td>NaN</td>\n",
       "      <td>NaN</td>\n",
       "      <td>NaN</td>\n",
       "      <td>NaN</td>\n",
       "      <td>NaN</td>\n",
       "      <td>NaN</td>\n",
       "      <td>NaN</td>\n",
       "      <td>NaN</td>\n",
       "      <td>NaN</td>\n",
       "    </tr>\n",
       "    <tr>\n",
       "      <th>4</th>\n",
       "      <td>#</td>\n",
       "      <td>NaN</td>\n",
       "      <td>NaN</td>\n",
       "      <td>NaN</td>\n",
       "      <td>NaN</td>\n",
       "      <td>NaN</td>\n",
       "      <td>NaN</td>\n",
       "      <td>NaN</td>\n",
       "      <td>NaN</td>\n",
       "      <td>NaN</td>\n",
       "      <td>...</td>\n",
       "      <td>NaN</td>\n",
       "      <td>NaN</td>\n",
       "      <td>NaN</td>\n",
       "      <td>NaN</td>\n",
       "      <td>NaN</td>\n",
       "      <td>NaN</td>\n",
       "      <td>NaN</td>\n",
       "      <td>NaN</td>\n",
       "      <td>NaN</td>\n",
       "      <td>NaN</td>\n",
       "    </tr>\n",
       "    <tr>\n",
       "      <th>5</th>\n",
       "      <td>Local time in Skopje / Zajchev Rid</td>\n",
       "      <td>T</td>\n",
       "      <td>Po</td>\n",
       "      <td>P</td>\n",
       "      <td>Pa</td>\n",
       "      <td>U</td>\n",
       "      <td>DD</td>\n",
       "      <td>Ff</td>\n",
       "      <td>ff10</td>\n",
       "      <td>ff3</td>\n",
       "      <td>...</td>\n",
       "      <td>Cm</td>\n",
       "      <td>Ch</td>\n",
       "      <td>VV</td>\n",
       "      <td>Td</td>\n",
       "      <td>RRR</td>\n",
       "      <td>tR</td>\n",
       "      <td>E</td>\n",
       "      <td>Tg</td>\n",
       "      <td>E'</td>\n",
       "      <td>sss</td>\n",
       "    </tr>\n",
       "    <tr>\n",
       "      <th>6</th>\n",
       "      <td>31.12.2017 22:00</td>\n",
       "      <td>1.8</td>\n",
       "      <td>738.8</td>\n",
       "      <td>766.7</td>\n",
       "      <td>0</td>\n",
       "      <td>86</td>\n",
       "      <td>Wind blowing from the north-west</td>\n",
       "      <td>2</td>\n",
       "      <td>NaN</td>\n",
       "      <td>NaN</td>\n",
       "      <td>...</td>\n",
       "      <td>NaN</td>\n",
       "      <td>NaN</td>\n",
       "      <td>10</td>\n",
       "      <td>-0.4</td>\n",
       "      <td>NaN</td>\n",
       "      <td>NaN</td>\n",
       "      <td>NaN</td>\n",
       "      <td>NaN</td>\n",
       "      <td>NaN</td>\n",
       "      <td>NaN</td>\n",
       "    </tr>\n",
       "    <tr>\n",
       "      <th>7</th>\n",
       "      <td>31.12.2017 19:00</td>\n",
       "      <td>4</td>\n",
       "      <td>738.8</td>\n",
       "      <td>766.6</td>\n",
       "      <td>0.3</td>\n",
       "      <td>71</td>\n",
       "      <td>Calm, no wind</td>\n",
       "      <td>0</td>\n",
       "      <td>NaN</td>\n",
       "      <td>NaN</td>\n",
       "      <td>...</td>\n",
       "      <td>Altocumulus translucidus at a single level.</td>\n",
       "      <td>No Cirrus, Cirrocumulus or Cirrostratus.</td>\n",
       "      <td>10</td>\n",
       "      <td>-0.9</td>\n",
       "      <td>No precipitation</td>\n",
       "      <td>12</td>\n",
       "      <td>NaN</td>\n",
       "      <td>NaN</td>\n",
       "      <td>NaN</td>\n",
       "      <td>NaN</td>\n",
       "    </tr>\n",
       "  </tbody>\n",
       "</table>\n",
       "<p>8 rows × 29 columns</p>\n",
       "</div>"
      ],
      "text/plain": [
       "  # Weather station Skopje / Zajchev Rid, Macedonia, WMO_ID=13588,selection from 01.01.2017 till 31.12.2017, all days  \\\n",
       "0                                  # Encoding: UTF-8                                                                    \n",
       "1  # The data is provided by the website \"Reliabl...                                                                    \n",
       "2  # If you use the data, please indicate the nam...                                                                    \n",
       "3  # For meteorological parameters see the addres...                                                                    \n",
       "4                                                  #                                                                    \n",
       "5                 Local time in Skopje / Zajchev Rid                                                                    \n",
       "6                                   31.12.2017 22:00                                                                    \n",
       "7                                   31.12.2017 19:00                                                                    \n",
       "\n",
       "  Unnamed: 1 Unnamed: 2 Unnamed: 3 Unnamed: 4 Unnamed: 5  \\\n",
       "0        NaN        NaN        NaN        NaN        NaN   \n",
       "1        NaN        NaN        NaN        NaN        NaN   \n",
       "2        NaN        NaN        NaN        NaN        NaN   \n",
       "3        NaN        NaN        NaN        NaN        NaN   \n",
       "4        NaN        NaN        NaN        NaN        NaN   \n",
       "5          T         Po          P         Pa          U   \n",
       "6        1.8      738.8      766.7          0         86   \n",
       "7          4      738.8      766.6        0.3         71   \n",
       "\n",
       "                         Unnamed: 6 Unnamed: 7 Unnamed: 8 Unnamed: 9  \\\n",
       "0                               NaN        NaN        NaN        NaN   \n",
       "1                               NaN        NaN        NaN        NaN   \n",
       "2                               NaN        NaN        NaN        NaN   \n",
       "3                               NaN        NaN        NaN        NaN   \n",
       "4                               NaN        NaN        NaN        NaN   \n",
       "5                                DD         Ff       ff10        ff3   \n",
       "6  Wind blowing from the north-west          2        NaN        NaN   \n",
       "7                     Calm, no wind          0        NaN        NaN   \n",
       "\n",
       "      ...                                      Unnamed: 19  \\\n",
       "0     ...                                              NaN   \n",
       "1     ...                                              NaN   \n",
       "2     ...                                              NaN   \n",
       "3     ...                                              NaN   \n",
       "4     ...                                              NaN   \n",
       "5     ...                                               Cm   \n",
       "6     ...                                              NaN   \n",
       "7     ...      Altocumulus translucidus at a single level.   \n",
       "\n",
       "                                Unnamed: 20 Unnamed: 21 Unnamed: 22  \\\n",
       "0                                       NaN         NaN         NaN   \n",
       "1                                       NaN         NaN         NaN   \n",
       "2                                       NaN         NaN         NaN   \n",
       "3                                       NaN         NaN         NaN   \n",
       "4                                       NaN         NaN         NaN   \n",
       "5                                        Ch          VV          Td   \n",
       "6                                       NaN          10        -0.4   \n",
       "7  No Cirrus, Cirrocumulus or Cirrostratus.          10        -0.9   \n",
       "\n",
       "        Unnamed: 23 Unnamed: 24 Unnamed: 25 Unnamed: 26 Unnamed: 27  \\\n",
       "0               NaN         NaN         NaN         NaN         NaN   \n",
       "1               NaN         NaN         NaN         NaN         NaN   \n",
       "2               NaN         NaN         NaN         NaN         NaN   \n",
       "3               NaN         NaN         NaN         NaN         NaN   \n",
       "4               NaN         NaN         NaN         NaN         NaN   \n",
       "5               RRR          tR           E          Tg          E'   \n",
       "6               NaN         NaN         NaN         NaN         NaN   \n",
       "7  No precipitation          12         NaN         NaN         NaN   \n",
       "\n",
       "  Unnamed: 28  \n",
       "0         NaN  \n",
       "1         NaN  \n",
       "2         NaN  \n",
       "3         NaN  \n",
       "4         NaN  \n",
       "5         sss  \n",
       "6         NaN  \n",
       "7         NaN  \n",
       "\n",
       "[8 rows x 29 columns]"
      ]
     },
     "execution_count": 3,
     "metadata": {},
     "output_type": "execute_result"
    }
   ],
   "source": [
    "df.head(8)"
   ]
  },
  {
   "cell_type": "markdown",
   "metadata": {},
   "source": [
    "The first six rows in the data frame are unnecessary so let's skip them."
   ]
  },
  {
   "cell_type": "code",
   "execution_count": 4,
   "metadata": {},
   "outputs": [
    {
     "data": {
      "text/plain": [
       "(2827, 29)"
      ]
     },
     "execution_count": 4,
     "metadata": {},
     "output_type": "execute_result"
    }
   ],
   "source": [
    "df = pd.read_excel('C:\\\\Users\\\\Filip\\\\Documents\\\\PYTHON SCRIPTS\\\\DATA\\\\PROJECTS\\\\Skopje weather\\\\sk2017.xls', skiprows=6)\n",
    "# Number of rows and columns\n",
    "df.shape "
   ]
  },
  {
   "cell_type": "code",
   "execution_count": 5,
   "metadata": {},
   "outputs": [
    {
     "data": {
      "text/html": [
       "<div>\n",
       "<style scoped>\n",
       "    .dataframe tbody tr th:only-of-type {\n",
       "        vertical-align: middle;\n",
       "    }\n",
       "\n",
       "    .dataframe tbody tr th {\n",
       "        vertical-align: top;\n",
       "    }\n",
       "\n",
       "    .dataframe thead th {\n",
       "        text-align: right;\n",
       "    }\n",
       "</style>\n",
       "<table border=\"1\" class=\"dataframe\">\n",
       "  <thead>\n",
       "    <tr style=\"text-align: right;\">\n",
       "      <th></th>\n",
       "      <th>Local time in Skopje / Zajchev Rid</th>\n",
       "      <th>T</th>\n",
       "      <th>Po</th>\n",
       "      <th>P</th>\n",
       "      <th>Pa</th>\n",
       "      <th>U</th>\n",
       "      <th>DD</th>\n",
       "      <th>Ff</th>\n",
       "      <th>ff10</th>\n",
       "      <th>ff3</th>\n",
       "      <th>...</th>\n",
       "      <th>Cm</th>\n",
       "      <th>Ch</th>\n",
       "      <th>VV</th>\n",
       "      <th>Td</th>\n",
       "      <th>RRR</th>\n",
       "      <th>tR</th>\n",
       "      <th>E</th>\n",
       "      <th>Tg</th>\n",
       "      <th>E'</th>\n",
       "      <th>sss</th>\n",
       "    </tr>\n",
       "  </thead>\n",
       "  <tbody>\n",
       "    <tr>\n",
       "      <th>0</th>\n",
       "      <td>31.12.2017 22:00</td>\n",
       "      <td>1.8</td>\n",
       "      <td>738.8</td>\n",
       "      <td>766.7</td>\n",
       "      <td>0.0</td>\n",
       "      <td>86.0</td>\n",
       "      <td>Wind blowing from the north-west</td>\n",
       "      <td>2.0</td>\n",
       "      <td>NaN</td>\n",
       "      <td>NaN</td>\n",
       "      <td>...</td>\n",
       "      <td>NaN</td>\n",
       "      <td>NaN</td>\n",
       "      <td>10</td>\n",
       "      <td>-0.4</td>\n",
       "      <td>NaN</td>\n",
       "      <td>NaN</td>\n",
       "      <td>NaN</td>\n",
       "      <td>NaN</td>\n",
       "      <td>NaN</td>\n",
       "      <td>NaN</td>\n",
       "    </tr>\n",
       "    <tr>\n",
       "      <th>1</th>\n",
       "      <td>31.12.2017 19:00</td>\n",
       "      <td>4.0</td>\n",
       "      <td>738.8</td>\n",
       "      <td>766.6</td>\n",
       "      <td>0.3</td>\n",
       "      <td>71.0</td>\n",
       "      <td>Calm, no wind</td>\n",
       "      <td>0.0</td>\n",
       "      <td>NaN</td>\n",
       "      <td>NaN</td>\n",
       "      <td>...</td>\n",
       "      <td>Altocumulus translucidus at a single level.</td>\n",
       "      <td>No Cirrus, Cirrocumulus or Cirrostratus.</td>\n",
       "      <td>10</td>\n",
       "      <td>-0.9</td>\n",
       "      <td>No precipitation</td>\n",
       "      <td>12.0</td>\n",
       "      <td>NaN</td>\n",
       "      <td>NaN</td>\n",
       "      <td>NaN</td>\n",
       "      <td>NaN</td>\n",
       "    </tr>\n",
       "    <tr>\n",
       "      <th>2</th>\n",
       "      <td>31.12.2017 16:00</td>\n",
       "      <td>6.7</td>\n",
       "      <td>738.5</td>\n",
       "      <td>765.9</td>\n",
       "      <td>0.1</td>\n",
       "      <td>52.0</td>\n",
       "      <td>Wind blowing from the east-southeast</td>\n",
       "      <td>2.0</td>\n",
       "      <td>NaN</td>\n",
       "      <td>NaN</td>\n",
       "      <td>...</td>\n",
       "      <td>Altocumulus translucidus at a single level.</td>\n",
       "      <td>Cirrus fibratus, sometimes uncinus, not progre...</td>\n",
       "      <td>4</td>\n",
       "      <td>-2.5</td>\n",
       "      <td>NaN</td>\n",
       "      <td>NaN</td>\n",
       "      <td>NaN</td>\n",
       "      <td>NaN</td>\n",
       "      <td>NaN</td>\n",
       "      <td>NaN</td>\n",
       "    </tr>\n",
       "    <tr>\n",
       "      <th>3</th>\n",
       "      <td>31.12.2017 13:00</td>\n",
       "      <td>5.5</td>\n",
       "      <td>738.4</td>\n",
       "      <td>766.0</td>\n",
       "      <td>-1.8</td>\n",
       "      <td>69.0</td>\n",
       "      <td>Wind blowing from the south-southwest</td>\n",
       "      <td>2.0</td>\n",
       "      <td>NaN</td>\n",
       "      <td>NaN</td>\n",
       "      <td>...</td>\n",
       "      <td>Altocumulus translucidus at a single level.</td>\n",
       "      <td>Cirrus fibratus, sometimes uncinus, not progre...</td>\n",
       "      <td>4</td>\n",
       "      <td>0.1</td>\n",
       "      <td>No precipitation</td>\n",
       "      <td>6.0</td>\n",
       "      <td>NaN</td>\n",
       "      <td>NaN</td>\n",
       "      <td>NaN</td>\n",
       "      <td>NaN</td>\n",
       "    </tr>\n",
       "    <tr>\n",
       "      <th>4</th>\n",
       "      <td>31.12.2017 10:00</td>\n",
       "      <td>0.0</td>\n",
       "      <td>740.2</td>\n",
       "      <td>768.4</td>\n",
       "      <td>0.9</td>\n",
       "      <td>90.0</td>\n",
       "      <td>Calm, no wind</td>\n",
       "      <td>0.0</td>\n",
       "      <td>NaN</td>\n",
       "      <td>NaN</td>\n",
       "      <td>...</td>\n",
       "      <td>Altocumulus translucidus at a single level.</td>\n",
       "      <td>Cirrus fibratus, sometimes uncinus, not progre...</td>\n",
       "      <td>4</td>\n",
       "      <td>-1.5</td>\n",
       "      <td>NaN</td>\n",
       "      <td>NaN</td>\n",
       "      <td>NaN</td>\n",
       "      <td>NaN</td>\n",
       "      <td>NaN</td>\n",
       "      <td>NaN</td>\n",
       "    </tr>\n",
       "  </tbody>\n",
       "</table>\n",
       "<p>5 rows × 29 columns</p>\n",
       "</div>"
      ],
      "text/plain": [
       "  Local time in Skopje / Zajchev Rid    T     Po      P   Pa     U  \\\n",
       "0                   31.12.2017 22:00  1.8  738.8  766.7  0.0  86.0   \n",
       "1                   31.12.2017 19:00  4.0  738.8  766.6  0.3  71.0   \n",
       "2                   31.12.2017 16:00  6.7  738.5  765.9  0.1  52.0   \n",
       "3                   31.12.2017 13:00  5.5  738.4  766.0 -1.8  69.0   \n",
       "4                   31.12.2017 10:00  0.0  740.2  768.4  0.9  90.0   \n",
       "\n",
       "                                      DD   Ff  ff10  ff3 ...  \\\n",
       "0       Wind blowing from the north-west  2.0   NaN  NaN ...   \n",
       "1                          Calm, no wind  0.0   NaN  NaN ...   \n",
       "2   Wind blowing from the east-southeast  2.0   NaN  NaN ...   \n",
       "3  Wind blowing from the south-southwest  2.0   NaN  NaN ...   \n",
       "4                          Calm, no wind  0.0   NaN  NaN ...   \n",
       "\n",
       "                                            Cm  \\\n",
       "0                                          NaN   \n",
       "1  Altocumulus translucidus at a single level.   \n",
       "2  Altocumulus translucidus at a single level.   \n",
       "3  Altocumulus translucidus at a single level.   \n",
       "4  Altocumulus translucidus at a single level.   \n",
       "\n",
       "                                                  Ch  VV   Td  \\\n",
       "0                                                NaN  10 -0.4   \n",
       "1           No Cirrus, Cirrocumulus or Cirrostratus.  10 -0.9   \n",
       "2  Cirrus fibratus, sometimes uncinus, not progre...   4 -2.5   \n",
       "3  Cirrus fibratus, sometimes uncinus, not progre...   4  0.1   \n",
       "4  Cirrus fibratus, sometimes uncinus, not progre...   4 -1.5   \n",
       "\n",
       "                RRR    tR    E  Tg   E' sss  \n",
       "0               NaN   NaN  NaN NaN  NaN NaN  \n",
       "1  No precipitation  12.0  NaN NaN  NaN NaN  \n",
       "2               NaN   NaN  NaN NaN  NaN NaN  \n",
       "3  No precipitation   6.0  NaN NaN  NaN NaN  \n",
       "4               NaN   NaN  NaN NaN  NaN NaN  \n",
       "\n",
       "[5 rows x 29 columns]"
      ]
     },
     "execution_count": 5,
     "metadata": {},
     "output_type": "execute_result"
    }
   ],
   "source": [
    "df.head()"
   ]
  },
  {
   "cell_type": "markdown",
   "metadata": {},
   "source": [
    "Only weather parameter needed for this project is temperature."
   ]
  },
  {
   "cell_type": "code",
   "execution_count": 6,
   "metadata": {},
   "outputs": [
    {
     "data": {
      "text/html": [
       "<div>\n",
       "<style scoped>\n",
       "    .dataframe tbody tr th:only-of-type {\n",
       "        vertical-align: middle;\n",
       "    }\n",
       "\n",
       "    .dataframe tbody tr th {\n",
       "        vertical-align: top;\n",
       "    }\n",
       "\n",
       "    .dataframe thead th {\n",
       "        text-align: right;\n",
       "    }\n",
       "</style>\n",
       "<table border=\"1\" class=\"dataframe\">\n",
       "  <thead>\n",
       "    <tr style=\"text-align: right;\">\n",
       "      <th></th>\n",
       "      <th>Local time in Skopje / Zajchev Rid</th>\n",
       "      <th>T</th>\n",
       "    </tr>\n",
       "  </thead>\n",
       "  <tbody>\n",
       "    <tr>\n",
       "      <th>0</th>\n",
       "      <td>31.12.2017 22:00</td>\n",
       "      <td>1.8</td>\n",
       "    </tr>\n",
       "    <tr>\n",
       "      <th>1</th>\n",
       "      <td>31.12.2017 19:00</td>\n",
       "      <td>4.0</td>\n",
       "    </tr>\n",
       "    <tr>\n",
       "      <th>2</th>\n",
       "      <td>31.12.2017 16:00</td>\n",
       "      <td>6.7</td>\n",
       "    </tr>\n",
       "    <tr>\n",
       "      <th>3</th>\n",
       "      <td>31.12.2017 13:00</td>\n",
       "      <td>5.5</td>\n",
       "    </tr>\n",
       "    <tr>\n",
       "      <th>4</th>\n",
       "      <td>31.12.2017 10:00</td>\n",
       "      <td>0.0</td>\n",
       "    </tr>\n",
       "  </tbody>\n",
       "</table>\n",
       "</div>"
      ],
      "text/plain": [
       "  Local time in Skopje / Zajchev Rid    T\n",
       "0                   31.12.2017 22:00  1.8\n",
       "1                   31.12.2017 19:00  4.0\n",
       "2                   31.12.2017 16:00  6.7\n",
       "3                   31.12.2017 13:00  5.5\n",
       "4                   31.12.2017 10:00  0.0"
      ]
     },
     "execution_count": 6,
     "metadata": {},
     "output_type": "execute_result"
    }
   ],
   "source": [
    "# Separating the temperature column from the other columns\n",
    "temp = df.iloc[:,0:2]\n",
    "temp.head()"
   ]
  },
  {
   "cell_type": "markdown",
   "metadata": {},
   "source": [
    "The date values should be in opposite order (from january to december)."
   ]
  },
  {
   "cell_type": "code",
   "execution_count": 7,
   "metadata": {},
   "outputs": [
    {
     "data": {
      "text/html": [
       "<div>\n",
       "<style scoped>\n",
       "    .dataframe tbody tr th:only-of-type {\n",
       "        vertical-align: middle;\n",
       "    }\n",
       "\n",
       "    .dataframe tbody tr th {\n",
       "        vertical-align: top;\n",
       "    }\n",
       "\n",
       "    .dataframe thead th {\n",
       "        text-align: right;\n",
       "    }\n",
       "</style>\n",
       "<table border=\"1\" class=\"dataframe\">\n",
       "  <thead>\n",
       "    <tr style=\"text-align: right;\">\n",
       "      <th></th>\n",
       "      <th>Local time in Skopje / Zajchev Rid</th>\n",
       "      <th>T</th>\n",
       "    </tr>\n",
       "  </thead>\n",
       "  <tbody>\n",
       "    <tr>\n",
       "      <th>0</th>\n",
       "      <td>01.01.2017 01:00</td>\n",
       "      <td>-5.1</td>\n",
       "    </tr>\n",
       "    <tr>\n",
       "      <th>1</th>\n",
       "      <td>01.01.2017 04:00</td>\n",
       "      <td>-6.3</td>\n",
       "    </tr>\n",
       "    <tr>\n",
       "      <th>2</th>\n",
       "      <td>01.01.2017 07:00</td>\n",
       "      <td>-7.2</td>\n",
       "    </tr>\n",
       "    <tr>\n",
       "      <th>3</th>\n",
       "      <td>01.01.2017 10:00</td>\n",
       "      <td>-2.5</td>\n",
       "    </tr>\n",
       "    <tr>\n",
       "      <th>4</th>\n",
       "      <td>01.01.2017 13:00</td>\n",
       "      <td>2.5</td>\n",
       "    </tr>\n",
       "  </tbody>\n",
       "</table>\n",
       "</div>"
      ],
      "text/plain": [
       "  Local time in Skopje / Zajchev Rid    T\n",
       "0                   01.01.2017 01:00 -5.1\n",
       "1                   01.01.2017 04:00 -6.3\n",
       "2                   01.01.2017 07:00 -7.2\n",
       "3                   01.01.2017 10:00 -2.5\n",
       "4                   01.01.2017 13:00  2.5"
      ]
     },
     "execution_count": 7,
     "metadata": {},
     "output_type": "execute_result"
    }
   ],
   "source": [
    "temp.iloc[:] = temp.iloc[::-1].values\n",
    "temp.head()"
   ]
  },
  {
   "cell_type": "code",
   "execution_count": 8,
   "metadata": {},
   "outputs": [
    {
     "data": {
      "text/plain": [
       "Local time in Skopje / Zajchev Rid    0\n",
       "T                                     1\n",
       "dtype: int64"
      ]
     },
     "execution_count": 8,
     "metadata": {},
     "output_type": "execute_result"
    }
   ],
   "source": [
    "# Checking for null values\n",
    "temp.apply(lambda x: sum(x.isnull()))"
   ]
  },
  {
   "cell_type": "code",
   "execution_count": 9,
   "metadata": {},
   "outputs": [],
   "source": [
    "# Filling the single null value with the preceding value\n",
    "temp['T'].fillna(method='ffill',inplace = True)"
   ]
  },
  {
   "cell_type": "code",
   "execution_count": 10,
   "metadata": {},
   "outputs": [
    {
     "data": {
      "text/plain": [
       "Text(0.5,1,'Year 2017')"
      ]
     },
     "execution_count": 10,
     "metadata": {},
     "output_type": "execute_result"
    },
    {
     "data": {
      "image/png": "[encoded data removed]",
      "text/plain": [
       "<Figure size 504x360 with 1 Axes>"
      ]
     },
     "metadata": {},
     "output_type": "display_data"
    }
   ],
   "source": [
    "#Plotting a histogram with 100 bins using all the samples\n",
    "temp.hist(column='T', bins=100, figsize=(7, 5))\n",
    "plt.xlabel('Temperature (Celsius)')\n",
    "plt.ylabel('Number of occurences')\n",
    "plt.title('Year 2017')"
   ]
  },
  {
   "cell_type": "code",
   "execution_count": 11,
   "metadata": {},
   "outputs": [
    {
     "data": {
      "text/markdown": [
       "The highest recorded temperature in Skopje in 2017 was 40.3°C , while the lowest recorded temperature was -16.6°C. The average temperature was 13.5°C."
      ],
      "text/plain": [
       "<IPython.core.display.Markdown object>"
      ]
     },
     "metadata": {},
     "output_type": "display_data"
    }
   ],
   "source": [
    "# Stats for the year 2017\n",
    "stats_2017 = stats.describe(temp['T'])\n",
    "display(Markdown('The highest recorded temperature in Skopje in 2017 was {}°C , while the lowest recorded temperature was {}°C. The average temperature was {:.1f}°C.'.format(stats_2017.minmax[1],stats_2017.minmax[0],stats_2017.mean)))"
   ]
  },
  {
   "cell_type": "markdown",
   "metadata": {},
   "source": [
    "## Hyphotesis testing"
   ]
  },
  {
   "cell_type": "markdown",
   "metadata": {},
   "source": [
    "The Köppen–Geiger climate classification system is a climate classification system. It is used to clasify the climate of a region by using 3 letters. The first letter represents the type of climate, the second indicates precipitation, and the third corresponds to the temperature. For example, Skopje is [classified](https://en.climate-data.org/europe/macedonia/skopje/skopje-1768/) as Cfa, where the \"C\" represents temperate (mesothermal) climate, \"f\" stands for no dry seasons, and \"a\" corresponds to hot summers. \n",
    "\n",
    "For the first symbol to be \"C\" the coldest month should average at lowest 0°C. Using hypothesis testing, let's verify with 5% significance if the city of Skopje should have the 1st symbol to be \"C\" according to the Köppen–Geiger climate classification system using weather data from the year 2017.\n",
    "![Image of Yaktocat](https://upload.wikimedia.org/wikipedia/commons/1/1e/World_K%C3%B6ppen_Classification_%28with_authors%29.svg)"
   ]
  },
  {
   "cell_type": "markdown",
   "metadata": {},
   "source": [
    "### Attaining data from each month of the year"
   ]
  },
  {
   "cell_type": "markdown",
   "metadata": {},
   "source": [
    "#### Separating the months"
   ]
  },
  {
   "cell_type": "code",
   "execution_count": 12,
   "metadata": {},
   "outputs": [
    {
     "data": {
      "text/html": [
       "<div>\n",
       "<style scoped>\n",
       "    .dataframe tbody tr th:only-of-type {\n",
       "        vertical-align: middle;\n",
       "    }\n",
       "\n",
       "    .dataframe tbody tr th {\n",
       "        vertical-align: top;\n",
       "    }\n",
       "\n",
       "    .dataframe thead th {\n",
       "        text-align: right;\n",
       "    }\n",
       "</style>\n",
       "<table border=\"1\" class=\"dataframe\">\n",
       "  <thead>\n",
       "    <tr style=\"text-align: right;\">\n",
       "      <th></th>\n",
       "      <th>Local time in Skopje / Zajchev Rid</th>\n",
       "      <th>T</th>\n",
       "      <th>month</th>\n",
       "    </tr>\n",
       "  </thead>\n",
       "  <tbody>\n",
       "    <tr>\n",
       "      <th>0</th>\n",
       "      <td>2017-01-01 01:00:00</td>\n",
       "      <td>-5.1</td>\n",
       "      <td>1</td>\n",
       "    </tr>\n",
       "    <tr>\n",
       "      <th>1</th>\n",
       "      <td>2017-01-01 04:00:00</td>\n",
       "      <td>-6.3</td>\n",
       "      <td>1</td>\n",
       "    </tr>\n",
       "    <tr>\n",
       "      <th>2</th>\n",
       "      <td>2017-01-01 07:00:00</td>\n",
       "      <td>-7.2</td>\n",
       "      <td>1</td>\n",
       "    </tr>\n",
       "    <tr>\n",
       "      <th>3</th>\n",
       "      <td>2017-01-01 10:00:00</td>\n",
       "      <td>-2.5</td>\n",
       "      <td>1</td>\n",
       "    </tr>\n",
       "    <tr>\n",
       "      <th>4</th>\n",
       "      <td>2017-01-01 13:00:00</td>\n",
       "      <td>2.5</td>\n",
       "      <td>1</td>\n",
       "    </tr>\n",
       "  </tbody>\n",
       "</table>\n",
       "</div>"
      ],
      "text/plain": [
       "  Local time in Skopje / Zajchev Rid    T  month\n",
       "0                2017-01-01 01:00:00 -5.1      1\n",
       "1                2017-01-01 04:00:00 -6.3      1\n",
       "2                2017-01-01 07:00:00 -7.2      1\n",
       "3                2017-01-01 10:00:00 -2.5      1\n",
       "4                2017-01-01 13:00:00  2.5      1"
      ]
     },
     "execution_count": 12,
     "metadata": {},
     "output_type": "execute_result"
    }
   ],
   "source": [
    "# Creating a new column 'month' with values from 1 to 12 for each month\n",
    "temp['Local time in Skopje / Zajchev Rid'] = pd.to_datetime(temp['Local time in Skopje / Zajchev Rid'], dayfirst=True)\n",
    "temp['month'] = pd.DatetimeIndex(temp['Local time in Skopje / Zajchev Rid']).month\n",
    "temp.head()"
   ]
  },
  {
   "cell_type": "code",
   "execution_count": 13,
   "metadata": {},
   "outputs": [],
   "source": [
    "# Creating slices for each month\n",
    "temp2=temp.copy()\n",
    "months = ['January', 'February', 'March', 'April', 'May', 'June', 'July', 'August', 'September', 'October', 'November', 'December']\n",
    "slices = []\n",
    "for i in range(1, 13): \n",
    "    slices.append(temp2[temp2['month']==i]) # Adding the monthly slices to the 'slices' list\n",
    "for x,y in zip(months, slices):\n",
    "    globals()[x] = y # Naming each slice according to the 'month' list"
   ]
  },
  {
   "cell_type": "code",
   "execution_count": 14,
   "metadata": {},
   "outputs": [
    {
     "data": {
      "text/html": [
       "<div>\n",
       "<style scoped>\n",
       "    .dataframe tbody tr th:only-of-type {\n",
       "        vertical-align: middle;\n",
       "    }\n",
       "\n",
       "    .dataframe tbody tr th {\n",
       "        vertical-align: top;\n",
       "    }\n",
       "\n",
       "    .dataframe thead th {\n",
       "        text-align: right;\n",
       "    }\n",
       "</style>\n",
       "<table border=\"1\" class=\"dataframe\">\n",
       "  <thead>\n",
       "    <tr style=\"text-align: right;\">\n",
       "      <th></th>\n",
       "      <th>Local time in Skopje / Zajchev Rid</th>\n",
       "      <th>T</th>\n",
       "      <th>month</th>\n",
       "    </tr>\n",
       "  </thead>\n",
       "  <tbody>\n",
       "    <tr>\n",
       "      <th>1644</th>\n",
       "      <td>2017-08-01 01:00:00</td>\n",
       "      <td>25.4</td>\n",
       "      <td>8</td>\n",
       "    </tr>\n",
       "    <tr>\n",
       "      <th>1645</th>\n",
       "      <td>2017-08-01 04:00:00</td>\n",
       "      <td>20.7</td>\n",
       "      <td>8</td>\n",
       "    </tr>\n",
       "    <tr>\n",
       "      <th>1646</th>\n",
       "      <td>2017-08-01 07:00:00</td>\n",
       "      <td>23.6</td>\n",
       "      <td>8</td>\n",
       "    </tr>\n",
       "    <tr>\n",
       "      <th>1647</th>\n",
       "      <td>2017-08-01 10:00:00</td>\n",
       "      <td>31.1</td>\n",
       "      <td>8</td>\n",
       "    </tr>\n",
       "    <tr>\n",
       "      <th>1648</th>\n",
       "      <td>2017-08-01 13:00:00</td>\n",
       "      <td>35.4</td>\n",
       "      <td>8</td>\n",
       "    </tr>\n",
       "  </tbody>\n",
       "</table>\n",
       "</div>"
      ],
      "text/plain": [
       "     Local time in Skopje / Zajchev Rid     T  month\n",
       "1644                2017-08-01 01:00:00  25.4      8\n",
       "1645                2017-08-01 04:00:00  20.7      8\n",
       "1646                2017-08-01 07:00:00  23.6      8\n",
       "1647                2017-08-01 10:00:00  31.1      8\n",
       "1648                2017-08-01 13:00:00  35.4      8"
      ]
     },
     "execution_count": 14,
     "metadata": {},
     "output_type": "execute_result"
    }
   ],
   "source": [
    "# Names from the list 'months' will now give us the dataframe for a given month. Example:\n",
    "August.head()"
   ]
  },
  {
   "cell_type": "markdown",
   "metadata": {},
   "source": [
    "#### Getting stats for each month"
   ]
  },
  {
   "cell_type": "code",
   "execution_count": 15,
   "metadata": {},
   "outputs": [
    {
     "data": {
      "text/plain": [
       "['stats_January',\n",
       " 'stats_February',\n",
       " 'stats_March',\n",
       " 'stats_April',\n",
       " 'stats_May',\n",
       " 'stats_June',\n",
       " 'stats_July',\n",
       " 'stats_August',\n",
       " 'stats_September',\n",
       " 'stats_October',\n",
       " 'stats_November',\n",
       " 'stats_December']"
      ]
     },
     "execution_count": 15,
     "metadata": {},
     "output_type": "execute_result"
    }
   ],
   "source": [
    "monthly_stats = []\n",
    "for month in months:\n",
    "    monthly_stats.append('stats_' + str(month))\n",
    "\n",
    "# Items in list 'monthly stats'\n",
    "monthly_stats"
   ]
  },
  {
   "cell_type": "code",
   "execution_count": 16,
   "metadata": {},
   "outputs": [],
   "source": [
    "stats_values = []\n",
    "for month in slices:\n",
    "    stats_values.append(stats.describe(month['T']))\n",
    "for x,y in zip(monthly_stats, stats_values):\n",
    "    globals()[x] = y"
   ]
  },
  {
   "cell_type": "code",
   "execution_count": 17,
   "metadata": {},
   "outputs": [
    {
     "data": {
      "text/plain": [
       "DescribeResult(nobs=222, minmax=(-3.8, 19.6), mean=5.170270270270271, variance=21.80246056010762, skewness=0.7509818165255169, kurtosis=0.5033714016530721)"
      ]
     },
     "execution_count": 17,
     "metadata": {},
     "output_type": "execute_result"
    }
   ],
   "source": [
    "# Names from the list 'monthly_stats' will now give us the stats for a month. Example:\n",
    "stats_February"
   ]
  },
  {
   "cell_type": "markdown",
   "metadata": {},
   "source": [
    "#### Average and minmax values for each month"
   ]
  },
  {
   "cell_type": "code",
   "execution_count": 18,
   "metadata": {},
   "outputs": [
    {
     "data": {
      "text/markdown": [
       "Average temperatures (°C) "
      ],
      "text/plain": [
       "<IPython.core.display.Markdown object>"
      ]
     },
     "metadata": {},
     "output_type": "display_data"
    },
    {
     "name": "stdout",
     "output_type": "stream",
     "text": [
      "January: -4.0\n",
      "February: 5.2\n",
      "March: 11.5\n",
      "April: 12.8\n",
      "May: 17.6\n",
      "June: 23.0\n",
      "July: 25.5\n",
      "August: 25.7\n",
      "September: 19.6\n",
      "October: 13.3\n",
      "November: 7.1\n",
      "December: 3.7\n"
     ]
    }
   ],
   "source": [
    "display(Markdown(\"Average temperatures (°C) \"))\n",
    "mean = []\n",
    "for val in stats_values:\n",
    "    mean.append(val.mean) # Adding the mean temperature values for each month to the list 'mean'\n",
    "for month, temperature in zip(months, mean):\n",
    "    print(month + \": \" + str(\"%.1f\" % temperature))"
   ]
  },
  {
   "cell_type": "markdown",
   "metadata": {},
   "source": [
    "*From above we notice that the coldest month of the year was January, and we will use it for the hypothesis testing."
   ]
  },
  {
   "cell_type": "code",
   "execution_count": 19,
   "metadata": {},
   "outputs": [
    {
     "data": {
      "text/markdown": [
       "Min-max temperatures (°C) "
      ],
      "text/plain": [
       "<IPython.core.display.Markdown object>"
      ]
     },
     "metadata": {},
     "output_type": "display_data"
    },
    {
     "name": "stdout",
     "output_type": "stream",
     "text": [
      "January: (-16.6, 5.9)\n",
      "February: (-3.8, 19.6)\n",
      "March: (0.9, 25.9)\n",
      "April: (1.4, 28.0)\n",
      "May: (6.8, 29.7)\n",
      "June: (12.9, 39.7)\n",
      "July: (15.0, 40.3)\n",
      "August: (12.3, 40.2)\n",
      "September: (9.1, 34.1)\n",
      "October: (-11.0, 25.8)\n",
      "November: (-4.8, 15.0)\n",
      "December: (-6.0, 15.0)\n"
     ]
    }
   ],
   "source": [
    "display(Markdown(\"Min-max temperatures (°C) \"))\n",
    "minmax = []\n",
    "for val in stats_values:\n",
    "    minmax.append(val.minmax)\n",
    "for month, temperature in zip(months, minmax):\n",
    "    print(month + \": \" + str(temperature))"
   ]
  },
  {
   "cell_type": "code",
   "execution_count": 20,
   "metadata": {},
   "outputs": [
    {
     "data": {
      "text/html": [
       "<div>\n",
       "<style scoped>\n",
       "    .dataframe tbody tr th:only-of-type {\n",
       "        vertical-align: middle;\n",
       "    }\n",
       "\n",
       "    .dataframe tbody tr th {\n",
       "        vertical-align: top;\n",
       "    }\n",
       "\n",
       "    .dataframe thead th {\n",
       "        text-align: right;\n",
       "    }\n",
       "</style>\n",
       "<table border=\"1\" class=\"dataframe\">\n",
       "  <thead>\n",
       "    <tr style=\"text-align: right;\">\n",
       "      <th></th>\n",
       "      <th>Month</th>\n",
       "      <th>Average temperature</th>\n",
       "      <th>Maximum temperature</th>\n",
       "      <th>Minimum temperature</th>\n",
       "    </tr>\n",
       "  </thead>\n",
       "  <tbody>\n",
       "    <tr>\n",
       "      <th>0</th>\n",
       "      <td>January</td>\n",
       "      <td>-4.015190</td>\n",
       "      <td>5.9</td>\n",
       "      <td>-16.6</td>\n",
       "    </tr>\n",
       "    <tr>\n",
       "      <th>1</th>\n",
       "      <td>February</td>\n",
       "      <td>5.170270</td>\n",
       "      <td>19.6</td>\n",
       "      <td>-3.8</td>\n",
       "    </tr>\n",
       "    <tr>\n",
       "      <th>2</th>\n",
       "      <td>March</td>\n",
       "      <td>11.528750</td>\n",
       "      <td>25.9</td>\n",
       "      <td>0.9</td>\n",
       "    </tr>\n",
       "    <tr>\n",
       "      <th>3</th>\n",
       "      <td>April</td>\n",
       "      <td>12.827039</td>\n",
       "      <td>28.0</td>\n",
       "      <td>1.4</td>\n",
       "    </tr>\n",
       "    <tr>\n",
       "      <th>4</th>\n",
       "      <td>May</td>\n",
       "      <td>17.579253</td>\n",
       "      <td>29.7</td>\n",
       "      <td>6.8</td>\n",
       "    </tr>\n",
       "  </tbody>\n",
       "</table>\n",
       "</div>"
      ],
      "text/plain": [
       "      Month  Average temperature  Maximum temperature  Minimum temperature\n",
       "0   January            -4.015190                  5.9                -16.6\n",
       "1  February             5.170270                 19.6                 -3.8\n",
       "2     March            11.528750                 25.9                  0.9\n",
       "3     April            12.827039                 28.0                  1.4\n",
       "4       May            17.579253                 29.7                  6.8"
      ]
     },
     "execution_count": 20,
     "metadata": {},
     "output_type": "execute_result"
    }
   ],
   "source": [
    "maxT=[] #max temperatures\n",
    "minT=[] #min temperatures\n",
    "for val in stats_values:\n",
    "    maxT.append(val.minmax[1])\n",
    "    minT.append(val.minmax[0])\n",
    "table = pd.DataFrame({'Month':months, 'Average temperature':mean, 'Maximum temperature':maxT, 'Minimum temperature':minT})\n",
    "table.head()"
   ]
  },
  {
   "cell_type": "code",
   "execution_count": 21,
   "metadata": {},
   "outputs": [
    {
     "data": {
      "image/png": "[encoded data removed]",
      "text/plain": [
       "<Figure size 2160x648 with 1 Axes>"
      ]
     },
     "metadata": {},
     "output_type": "display_data"
    }
   ],
   "source": [
    "f,ax1 = plt.subplots(figsize =(30,9))\n",
    "sns.pointplot(x='Month',y='Average temperature',data=table,color='black',alpha=0.8)\n",
    "sns.pointplot(x='Month',y='Maximum temperature',data=table,color='red',alpha=0.8)\n",
    "sns.pointplot(x='Month',y='Minimum temperature',data=table,color='blue',alpha=0.8)\n",
    "ax1.legend(handles=ax1.lines[::len(table)+1], labels=[\"Average temperature\",\"Maximum temperature\",\"Minimum temperature\"])\n",
    "plt.xlabel('Month',fontsize = 25,color='black') \n",
    "plt.title('Distribution of maximum, average and minimum temperatures in Skopje 2017(°C)',fontsize = 30,color='black')\n",
    "plt.ylabel('Temperature (°C)',fontsize = 25,color='black')\n",
    "plt.grid()"
   ]
  },
  {
   "cell_type": "markdown",
   "metadata": {},
   "source": [
    "### Z-test"
   ]
  },
  {
   "cell_type": "markdown",
   "metadata": {},
   "source": [
    "A Z-test is any statistical test for which the distribution of the test statistic under the null hypothesis can be approximated by a normal distribution.\n",
    "\n",
    "$$ Z = \\frac{{x̅}-{μ}}{σ/\\sqrt{n}} $$ \n",
    "\n",
    "Where $x̅$ is the sample mean, $μ$ is the mean of population, $σ$ is the standard deviation of population, $n$ is the number of samples.\n",
    "\n",
    "Under the null hypothesis, according to the Köppen–Geiger climate classification system, Skopje is classified as **Cfa** where \"C\" stands for temperate climates where the minimal average temperature $μ$ is at least 0°C ($μ$  $\\ge$ $0$).\n",
    "\n",
    "The alternative hypothesis is that Skopje should **not** have the first symbol to be \"C\" i.e that the minimal average temperature in 2017 is significantly less than we observe ($<$ $μ$).\n"
   ]
  },
  {
   "cell_type": "code",
   "execution_count": 22,
   "metadata": {},
   "outputs": [
    {
     "data": {
      "text/plain": [
       "-13.564737642460294"
      ]
     },
     "execution_count": 22,
     "metadata": {},
     "output_type": "execute_result"
    }
   ],
   "source": [
    "# Calculating the Z value from the formula using stats from the coldest month of the year January\n",
    "z = (stats_January.mean - 0)/(math.sqrt(stats_January.variance)/math.sqrt(January.shape[0]))\n",
    "z"
   ]
  },
  {
   "cell_type": "markdown",
   "metadata": {},
   "source": [
    "Calculating the p value\n",
    "$P(Z  \\le z)$ i.e $P(Z  \\le -13.5647)$:"
   ]
  },
  {
   "cell_type": "code",
   "execution_count": 23,
   "metadata": {},
   "outputs": [
    {
     "data": {
      "text/plain": [
       "3.240557317806647e-40"
      ]
     },
     "execution_count": 23,
     "metadata": {},
     "output_type": "execute_result"
    }
   ],
   "source": [
    "norm.cdf(z)*100"
   ]
  },
  {
   "cell_type": "markdown",
   "metadata": {},
   "source": [
    "Under the null hypothesis μ  $\\ge$ $0$,  probability that January has the minimal average temperature of 0°C (or greater) is $3.240557317806647e^{-40}$%.\n",
    "This low probability is $<5$% significance level.\n",
    "\n",
    "We reject the null hypothesis and accept the alternative.\n",
    "\n",
    "Skopje should not have the 1st symbol to be \"C\" according to the Köppen–Geiger climate classification system using weather data from 2017."
   ]
  }
 ],
 "metadata": {
  "kernelspec": {
   "display_name": "Python 3",
   "language": "python",
   "name": "python3"
  },
  "language_info": {
   "codemirror_mode": {
    "name": "ipython",
    "version": 3
   },
   "file_extension": ".py",
   "mimetype": "text/x-python",
   "name": "python",
   "nbconvert_exporter": "python",
   "pygments_lexer": "ipython3",
   "version": "3.6.5"
  }
 },
 "nbformat": 4,
 "nbformat_minor": 2
}
